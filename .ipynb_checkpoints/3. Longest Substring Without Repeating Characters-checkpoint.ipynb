{
 "cells": [
  {
   "cell_type": "markdown",
   "metadata": {},
   "source": [
    "<div class=\"content__u3I1 question-content__JfgR\">\n",
    "    <p>Given a string, find the length of the <strong>longest substring</strong> without repeating characters.</p>\n",
    "    <p><strong>Example 1:</strong></p>\n",
    "    <pre><strong>Input: </strong>&quot;abcabcbb&quot;\n",
    "<strong>Output: </strong>3 <strong>Explanation:</strong> The answer is <code>&quot;abc&quot;</code>, with the length of 3. </pre>\n",
    "    <p><strong>Example 2:</strong></p>\n",
    "    <pre><strong>Input: </strong>&quot;bbbbb&quot;\n",
    "<strong>Output: </strong>1\n",
    "<strong>Explanation: </strong>The answer is <code>&quot;b&quot;</code>, with the length of 1.</pre>\n",
    "    <p><strong>Example 3:</strong></p>\n",
    "    <pre><strong>Input: </strong>&quot;pwwkew&quot;\n",
    "<strong>Output: </strong>3\n",
    "<strong>Explanation: </strong>The answer is <code>&quot;wke&quot;</code>, with the length of 3.              Note that the answer must be a <strong>substring</strong>, <code>&quot;pwke&quot;</code> is a <em>subsequence</em> and not a substring.</pre>\n",
    "</div>"
   ]
  },
  {
   "cell_type": "code",
   "execution_count": 1,
   "metadata": {},
   "outputs": [],
   "source": [
    "class Solution:\n",
    "    def lengthOfLongestSubstring(self, s: str) -> int:\n",
    "        ans=''\n",
    "        out = len(ans)\n",
    "        for i in s:\n",
    "            if i not in ans:\n",
    "                ans += i\n",
    "            elif i in ans:\n",
    "                out = max(out, len(ans))\n",
    "                ans = ans.split(i)\n",
    "                ans = ans[-1] + i\n",
    "        out = max(out, len(ans))\n",
    "        return out\n",
    "        \n",
    "                "
   ]
  },
  {
   "cell_type": "code",
   "execution_count": null,
   "metadata": {},
   "outputs": [],
   "source": []
  }
 ],
 "metadata": {
  "kernelspec": {
   "display_name": "Python 3",
   "language": "python",
   "name": "python3"
  },
  "language_info": {
   "codemirror_mode": {
    "name": "ipython",
    "version": 3
   },
   "file_extension": ".py",
   "mimetype": "text/x-python",
   "name": "python",
   "nbconvert_exporter": "python",
   "pygments_lexer": "ipython3",
   "version": "3.7.7"
  }
 },
 "nbformat": 4,
 "nbformat_minor": 4
}
