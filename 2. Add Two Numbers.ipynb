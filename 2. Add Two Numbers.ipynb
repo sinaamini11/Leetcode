{
 "cells": [
  {
   "cell_type": "markdown",
   "metadata": {},
   "source": [
    "<div class=\"content__u3I1 question-content__JfgR\">\n",
    "    <p>You are given two <strong>non-empty</strong> linked lists representing two non-negative integers. The digits are stored in <strong>reverse order</strong> and each of their nodes contain a single digit. Add the two numbers and return it as a linked list.</p>\n",
    "    <p>You may assume the two numbers do not contain any leading zero, except the number 0 itself.</p>\n",
    "    <p><strong>Example:</strong></p>\n",
    "    <pre><strong>Input:</strong> (2 -&gt; 4 -&gt; 3) + (5 -&gt; 6 -&gt; 4)\n",
    "<strong>Output:</strong> 7 -&gt; 0 -&gt; 8\n",
    "<strong>Explanation:</strong> 342 + 465 = 807.</pre>\n",
    "</div>"
   ]
  },
  {
   "cell_type": "code",
   "execution_count": 1,
   "metadata": {},
   "outputs": [],
   "source": [
    "class Solution:\n",
    "    def addTwoNumbers(self, l1, l2 ,c = 0):\n",
    "        \"\"\"\n",
    "        :type l1: ListNode\n",
    "        :type l2: ListNode\n",
    "        :rtype: ListNode\n",
    "        \"\"\"\n",
    "        val = l1.val + l2.val + c\n",
    "        c = val // 10\n",
    "        ret = ListNode(val % 10 ) \n",
    "        \n",
    "        if (l1.next != None or l2.next != None or c != 0):\n",
    "            if l1.next == None:\n",
    "                l1.next = ListNode(0)\n",
    "            if l2.next == None:\n",
    "                l2.next = ListNode(0)\n",
    "            ret.next = self.addTwoNumbers(l1.next,l2.next,c)\n",
    "        return ret"
   ]
  },
  {
   "cell_type": "code",
   "execution_count": null,
   "metadata": {},
   "outputs": [],
   "source": []
  }
 ],
 "metadata": {
  "kernelspec": {
   "display_name": "Python 3",
   "language": "python",
   "name": "python3"
  },
  "language_info": {
   "codemirror_mode": {
    "name": "ipython",
    "version": 3
   },
   "file_extension": ".py",
   "mimetype": "text/x-python",
   "name": "python",
   "nbconvert_exporter": "python",
   "pygments_lexer": "ipython3",
   "version": "3.7.7"
  }
 },
 "nbformat": 4,
 "nbformat_minor": 4
}
